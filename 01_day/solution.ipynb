{
 "cells": [
  {
   "cell_type": "code",
   "execution_count": null,
   "outputs": [],
   "source": [
    "import traceback\n"
   ],
   "metadata": {
    "collapsed": false
   }
  },
  {
   "cell_type": "code",
   "execution_count": null,
   "outputs": [],
   "source": [
    "file = \"input.in\""
   ],
   "metadata": {
    "collapsed": false
   }
  },
  {
   "cell_type": "code",
   "execution_count": null,
   "outputs": [],
   "source": [
    "max_value = 0\n",
    "aux_max_value = 0\n",
    "top_three_calories = []"
   ],
   "metadata": {
    "collapsed": false
   }
  },
  {
   "cell_type": "code",
   "execution_count": null,
   "outputs": [],
   "source": [
    "try:\n",
    "    with open(file, 'r') as file:\n",
    "        for line in file:\n",
    "            aux_max_value = int(line) + aux_max_value if line.strip() else 0\n",
    "            max_value = max(aux_max_value, max_value)\n",
    "            top_three_calories.append(aux_max_value)\n",
    "            if len(top_three_calories) > 3:\n",
    "                top_three_calories.remove(min(top_three_calories))\n",
    "\n",
    "    # Solución Reto 1\n",
    "    print(max_value)\n",
    "    # Solución Reto 2\n",
    "    print(sum(top_three_calories))\n",
    "except Exception as msg:\n",
    "    traceback.print_exc()\n",
    "    print(msg)"
   ],
   "metadata": {
    "collapsed": false
   }
  }
 ],
 "metadata": {
  "kernelspec": {
   "display_name": "Python 3",
   "language": "python",
   "name": "python3"
  },
  "language_info": {
   "codemirror_mode": {
    "name": "ipython",
    "version": 2
   },
   "file_extension": ".py",
   "mimetype": "text/x-python",
   "name": "python",
   "nbconvert_exporter": "python",
   "pygments_lexer": "ipython2",
   "version": "2.7.6"
  }
 },
 "nbformat": 4,
 "nbformat_minor": 0
}
