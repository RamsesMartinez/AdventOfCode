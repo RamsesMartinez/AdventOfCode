{
 "cells": [
  {
   "cell_type": "code",
   "execution_count": 1,
   "outputs": [],
   "source": [
    "import traceback"
   ],
   "metadata": {
    "collapsed": false,
    "ExecuteTime": {
     "end_time": "2023-10-06T20:53:37.540300Z",
     "start_time": "2023-10-06T20:53:37.529075Z"
    }
   }
  },
  {
   "cell_type": "code",
   "execution_count": 2,
   "outputs": [],
   "source": [
    "file = \"input.in\""
   ],
   "metadata": {
    "collapsed": false,
    "ExecuteTime": {
     "end_time": "2023-10-06T20:53:37.542831Z",
     "start_time": "2023-10-06T20:53:37.536505Z"
    }
   }
  },
  {
   "cell_type": "code",
   "execution_count": 3,
   "outputs": [],
   "source": [
    "max_value = 0\n",
    "aux_max_value = 0\n",
    "top_three_calories = []"
   ],
   "metadata": {
    "collapsed": false,
    "ExecuteTime": {
     "end_time": "2023-10-06T20:53:37.542931Z",
     "start_time": "2023-10-06T20:53:37.538501Z"
    }
   }
  },
  {
   "cell_type": "code",
   "execution_count": 4,
   "outputs": [
    {
     "name": "stdout",
     "output_type": "stream",
     "text": [
      "68775\n",
      "202585\n"
     ]
    }
   ],
   "source": [
    "try:\n",
    "    with open(file, 'r') as file:\n",
    "        for line in file:\n",
    "            aux_max_value = int(line) + aux_max_value if line.strip() else 0\n",
    "            max_value = max(aux_max_value, max_value)\n",
    "            top_three_calories.append(aux_max_value)\n",
    "            if len(top_three_calories) > 3:\n",
    "                top_three_calories.remove(min(top_three_calories))\n",
    "\n",
    "    # Solución Reto 1\n",
    "    print(max_value)\n",
    "    # Solución Reto 2\n",
    "    print(sum(top_three_calories))\n",
    "except Exception as msg:\n",
    "    traceback.print_exc()\n",
    "    print(msg)"
   ],
   "metadata": {
    "collapsed": false,
    "ExecuteTime": {
     "end_time": "2023-10-06T20:53:37.546644Z",
     "start_time": "2023-10-06T20:53:37.542724Z"
    }
   }
  }
 ],
 "metadata": {
  "kernelspec": {
   "display_name": "Python 3",
   "language": "python",
   "name": "python3"
  },
  "language_info": {
   "codemirror_mode": {
    "name": "ipython",
    "version": 2
   },
   "file_extension": ".py",
   "mimetype": "text/x-python",
   "name": "python",
   "nbconvert_exporter": "python",
   "pygments_lexer": "ipython2",
   "version": "2.7.6"
  }
 },
 "nbformat": 4,
 "nbformat_minor": 0
}
